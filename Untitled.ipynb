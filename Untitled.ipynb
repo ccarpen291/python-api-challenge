{
 "cells": [
  {
   "cell_type": "code",
   "execution_count": null,
   "metadata": {},
   "outputs": [],
   "source": [
    "def scatterplt(x_values,y_values):\n",
    "    x_median = x_values.median()\n",
    "    y_median = y_values.median()\n",
    "    plt.scatter(x_values,y_values)\n",
    "    plt.title(\"Northern Hemispher Wind Speed\")\n",
    "    plt.xlabel('Latitude')\n",
    "    plt.ylabel('Wind Speed (mph)')\n",
    "    #Perform linear regression\n",
    "    (slope, intercept, rvalue, pvalue, stderr) = stats.linregress(x_values, y_values)\n",
    "    # Get regression values\n",
    "    # y = mx + b\n",
    "    regress_values = x_values * slope + intercept\n",
    "    #print(regress_values)\n",
    "    # Create line equation string\n",
    "    line_eq = \"y = \" + str(round(slope,2)) + \"x +\" + str(round(intercept,2))\n",
    "    print(line_eq)\n",
    "    plt.plot(x_values,regress_values,\"r-\")\n",
    "    plt.annotate(line_eq,(x_median,y_median),fontsize=15,color=\"red\")\n",
    "    # Print r square value\n",
    "    print(f\"The r-squared is: {round(rvalue,2)}\")\n",
    "    # Show plot\n",
    "    plt.show()\n"
   ]
  }
 ],
 "metadata": {
  "kernelspec": {
   "display_name": "Python 3",
   "language": "python",
   "name": "python3"
  },
  "language_info": {
   "codemirror_mode": {
    "name": "ipython",
    "version": 3
   },
   "file_extension": ".py",
   "mimetype": "text/x-python",
   "name": "python",
   "nbconvert_exporter": "python",
   "pygments_lexer": "ipython3",
   "version": "3.7.4"
  }
 },
 "nbformat": 4,
 "nbformat_minor": 2
}
